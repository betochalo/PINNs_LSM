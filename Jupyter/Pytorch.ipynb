{
 "cells": [
  {
   "cell_type": "code",
   "execution_count": 2,
   "id": "61c3ebe0-96ca-4a78-9d74-9122bcec8ab7",
   "metadata": {},
   "outputs": [],
   "source": [
    "import torch\n",
    "import numpy as np "
   ]
  },
  {
   "cell_type": "markdown",
   "id": "7a39f7d6-482d-4021-96d7-e786289456ad",
   "metadata": {},
   "source": [
    "# Size\n",
    "1. 3 sub-bloques\n",
    "2. Cada sub-bloque con 2 tensores\n",
    "3. Cada tensor esta constituido por 4 filas y 4 columnas"
   ]
  },
  {
   "cell_type": "code",
   "execution_count": 3,
   "id": "fceec775-68c5-42da-b6f0-ba56125f9138",
   "metadata": {},
   "outputs": [],
   "source": [
    "(h0, c0) = (torch.randn(1, 2, 4, 4), torch.randn(1, 2, 4, 4))"
   ]
  },
  {
   "cell_type": "code",
   "execution_count": 4,
   "id": "6937211f-c4bf-4506-9006-bd0c02381c58",
   "metadata": {},
   "outputs": [
    {
     "data": {
      "text/plain": [
       "(tensor([[[[ 0.5740,  1.0857, -0.2960,  1.1234],\n",
       "           [ 0.5940, -1.5512,  1.5080, -1.3502],\n",
       "           [-0.9697,  1.6555,  1.2074,  0.5103],\n",
       "           [-0.1029, -0.8677,  0.2165,  0.6072]],\n",
       " \n",
       "          [[-1.3401,  0.4351, -0.5831, -1.5268],\n",
       "           [-0.8060, -0.4797,  0.1346, -0.1867],\n",
       "           [-1.7752,  0.0969, -1.2501, -0.9790],\n",
       "           [ 0.5469, -0.8161,  0.1968,  0.3262]]]]),\n",
       " tensor([[[[ 0.0933, -0.2562, -1.1702, -0.3938],\n",
       "           [ 0.8330,  0.9304, -0.8371, -1.1703],\n",
       "           [ 0.3896,  0.7742,  0.2024,  0.7936],\n",
       "           [ 0.2535,  0.3017, -1.8242, -0.0665]],\n",
       " \n",
       "          [[-0.2406, -2.0759, -0.9159, -1.0513],\n",
       "           [ 0.1390, -0.7643, -0.1619, -1.1166],\n",
       "           [-0.3835, -0.9063, -1.2928, -0.2390],\n",
       "           [-1.0615, -0.0911,  0.0287,  1.4747]]]]))"
      ]
     },
     "execution_count": 4,
     "metadata": {},
     "output_type": "execute_result"
    }
   ],
   "source": [
    "(h0, c0)"
   ]
  },
  {
   "cell_type": "markdown",
   "id": "cbeedeaf-c320-4d5c-950e-668488564424",
   "metadata": {},
   "source": [
    "# Import data"
   ]
  },
  {
   "cell_type": "code",
   "execution_count": null,
   "id": "13901ff9-7577-4994-8835-2b302d065156",
   "metadata": {},
   "outputs": [],
   "source": []
  }
 ],
 "metadata": {
  "kernelspec": {
   "display_name": "Python 3 (ipykernel)",
   "language": "python",
   "name": "python3"
  },
  "language_info": {
   "codemirror_mode": {
    "name": "ipython",
    "version": 3
   },
   "file_extension": ".py",
   "mimetype": "text/x-python",
   "name": "python",
   "nbconvert_exporter": "python",
   "pygments_lexer": "ipython3",
   "version": "3.11.3"
  }
 },
 "nbformat": 4,
 "nbformat_minor": 5
}
